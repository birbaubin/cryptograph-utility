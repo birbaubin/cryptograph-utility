{
 "cells": [
  {
   "cell_type": "code",
   "execution_count": 1,
   "metadata": {},
   "outputs": [],
   "source": [
    "import torch\n",
    "import numpy as np\n",
    "import torch.nn.functional as F\n",
    "import torch.optim as optim\n",
    "from deeprobust.graph.defense import GCN\n",
    "from deeprobust.graph.targeted_attack import FGA\n",
    "from deeprobust.graph.utils import *\n",
    "from deeprobust.graph.data import Dataset\n",
    "from tqdm import tqdm\n",
    "import argparse\n",
    "from experiments import split_dataset\n",
    "from DistributedDefense import TwoPartyCNGCN\n",
    "import networkx as nx\n",
    "from scipy.sparse import csr_matrix\n",
    "import Mahsa_backdoor_V0 as backdoor"
   ]
  },
  {
   "cell_type": "code",
   "execution_count": 2,
   "metadata": {},
   "outputs": [
    {
     "name": "stdout",
     "output_type": "stream",
     "text": [
      "Loading polblogs dataset...\n",
      "Selecting 1 largest connected components\n"
     ]
    }
   ],
   "source": [
    "####################### Data loading and preprocessing #######################\n",
    "device = torch.device(\"cuda:0\" if torch.cuda.is_available() else \"cpu\")\n",
    "\n",
    "# Load data\n",
    "dataset = \"polblogs\"\n",
    "#data = Dataset(root='/tmp/', name=dataset)  : this is for unix-based systems\n",
    "\n",
    "# Use the current directory for windows\n",
    "data = Dataset(root='.', name=dataset)\n",
    "#data = Dataset(root='/tmp/', name=dataset)\n",
    "\n",
    "adj, features, labels = data.adj, data.features, data.labels\n",
    "idx_train, idx_val, idx_test = data.idx_train, data.idx_val, data.idx_test\n",
    "\n",
    "\n",
    "# Split graph into two graphs \n",
    "proportion_of_common_links = 0.5\n",
    "adj1, adj2 = split_dataset(adj, proportion_of_common_links) \n"
   ]
  },
  {
   "cell_type": "code",
   "execution_count": 3,
   "metadata": {},
   "outputs": [
    {
     "name": "stdout",
     "output_type": "stream",
     "text": [
      "graph edges : 16714\n",
      "Edge insertion is successful and 5 edges has been inserted between 1 and : [(1179, 0.5217391304347826, 11), (837, 0.826797385620915, 10), (618, 0.5944055944055944, 8), (1198, 0.8768115942028986, 7), (1005, 0.8834080717488789, 6)]\n",
      "Graph with 1222 nodes and 16719 edges\n"
     ]
    }
   ],
   "source": [
    "################################ Mahsa attack ###############################\n",
    "# Perform the attack\n",
    "# \n",
    "modified_adj1 =  adj1.copy()\n",
    "\n",
    "# Create a NetworkX graph from the adjacency matrix\n",
    "graph = nx.from_scipy_sparse_array(modified_adj1)\n",
    "\n",
    "# Add labels to the graph\n",
    "for node_id, label in enumerate(labels):\n",
    "    graph.nodes[node_id]['label'] = label\n",
    "# print(f\"lenght of the labels : {len(labels)}\") \n",
    "print(f\"graph edges : {graph.number_of_edges()}\")\n",
    "\n",
    "\n",
    "target_node, target_label, budget = backdoor.target(graph)   \n",
    "non_neighbor_opposit= backdoor.find_non_neighbor_opposit_label(graph, target_node, target_label)\n",
    "max_same_min_opposit_label_neighbors= backdoor.find_max_same_min_opposit_label_neighbors(graph, non_neighbor_opposit)\n",
    "nodes_for_attack = backdoor.nodes_for_attack(graph, target_node, max_same_min_opposit_label_neighbors, budget)\n",
    "attacked_graph = backdoor.insert_edge(graph, target_node, nodes_for_attack)\n",
    "backdoor.evaluate_graph(attacked_graph, nodes_for_attack, target_node, budget)\n",
    "modified_adj1 =backdoor.convert(attacked_graph)\n",
    "\n",
    "print(attacked_graph)\n",
    "\n"
   ]
  },
  {
   "cell_type": "code",
   "execution_count": 5,
   "metadata": {},
   "outputs": [
    {
     "name": "stdout",
     "output_type": "stream",
     "text": [
      "Dropping dissimilar edges using metric :  neighbors  on links\n",
      "removed 1667 edges in polblogs 1\n",
      "removed 1610 edges in polblogs 2\n",
      "*** polblogs 1 ***\n",
      "Test set results: loss= 0.3397 accuracy= 0.8027\n",
      "*** polblogs 2 ***\n",
      "Test set results: loss= 0.3430 accuracy= 0.8027\n"
     ]
    }
   ],
   "source": [
    "############################ Crypto'Graph defense ###########################\n",
    "# Perform Crypto'Graph distributed defense\n",
    "\n",
    "threshold = 2               # threshold for dropping dissimilar edges\n",
    "metric = \"neighbors\"        # metric for dropping dissimilar edges (neighbors, jaccard, cosine)\n",
    "object = \"links\"            # object for defense (links, features)\n",
    "\n",
    "model = TwoPartyCNGCN(dataset=dataset, nfeat=features.shape[1], nhid=16, nclass=labels.max().item() + 1,\n",
    "                          device=device)\n",
    "model.fit(modified_adj1.copy(), adj2.copy(), features, features, labels, idx_train, threshold, metric=metric, object=object,\n",
    "            train_iters=200, initialize=True, verbose=False, idx_val=idx_val)\n",
    "model.eval()\n",
    "accuracies = model.test(idx_test)"
   ]
  },
  {
   "cell_type": "code",
   "execution_count": 12,
   "metadata": {},
   "outputs": [
    {
     "ename": "AttributeError",
     "evalue": "'numpy.ndarray' object has no attribute 'is_sparse'",
     "output_type": "error",
     "traceback": [
      "\u001b[1;31m---------------------------------------------------------------------------\u001b[0m",
      "\u001b[1;31mAttributeError\u001b[0m                            Traceback (most recent call last)",
      "Cell \u001b[1;32mIn[12], line 9\u001b[0m\n\u001b[0;32m      3\u001b[0m \u001b[38;5;28;01mfrom\u001b[39;00m \u001b[38;5;21;01msklearn\u001b[39;00m\u001b[38;5;21;01m.\u001b[39;00m\u001b[38;5;21;01mmetrics\u001b[39;00m \u001b[38;5;28;01mimport\u001b[39;00m accuracy_score\n\u001b[0;32m      5\u001b[0m \u001b[38;5;66;03m# Get the model's predictions\u001b[39;00m\n\u001b[0;32m      6\u001b[0m \u001b[38;5;66;03m# outputs = model(features) \u001b[39;00m\n\u001b[0;32m      7\u001b[0m \n\u001b[0;32m      8\u001b[0m \u001b[38;5;66;03m# Assume that 'new_features' is your new node features matrix\u001b[39;00m\n\u001b[1;32m----> 9\u001b[0m outputs1 \u001b[38;5;241m=\u001b[39m \u001b[43mmodel\u001b[49m\u001b[38;5;241;43m.\u001b[39;49m\u001b[43mgcn1\u001b[49m\u001b[38;5;241;43m.\u001b[39;49m\u001b[43mforward\u001b[49m\u001b[43m(\u001b[49m\u001b[43madj1\u001b[49m\u001b[43m,\u001b[49m\u001b[43m \u001b[49m\u001b[43mfeatures\u001b[49m\u001b[43m)\u001b[49m\n\u001b[0;32m     10\u001b[0m outputs2 \u001b[38;5;241m=\u001b[39m model\u001b[38;5;241m.\u001b[39mgcn2\u001b[38;5;241m.\u001b[39mforward(features)\n\u001b[0;32m     12\u001b[0m outputs \u001b[38;5;241m=\u001b[39m model\u001b[38;5;241m.\u001b[39mforward(features)\n",
      "File \u001b[1;32m~\\AppData\\Local\\Packages\\PythonSoftwareFoundation.Python.3.9_qbz5n2kfra8p0\\LocalCache\\local-packages\\Python39\\site-packages\\deeprobust\\graph\\defense\\gcn.py:124\u001b[0m, in \u001b[0;36mGCN.forward\u001b[1;34m(self, x, adj)\u001b[0m\n\u001b[0;32m    122\u001b[0m \u001b[38;5;28;01mdef\u001b[39;00m \u001b[38;5;21mforward\u001b[39m(\u001b[38;5;28mself\u001b[39m, x, adj):\n\u001b[0;32m    123\u001b[0m     \u001b[38;5;28;01mif\u001b[39;00m \u001b[38;5;28mself\u001b[39m\u001b[38;5;241m.\u001b[39mwith_relu:\n\u001b[1;32m--> 124\u001b[0m         x \u001b[38;5;241m=\u001b[39m F\u001b[38;5;241m.\u001b[39mrelu(\u001b[38;5;28;43mself\u001b[39;49m\u001b[38;5;241;43m.\u001b[39;49m\u001b[43mgc1\u001b[49m\u001b[43m(\u001b[49m\u001b[43mx\u001b[49m\u001b[43m,\u001b[49m\u001b[43m \u001b[49m\u001b[43madj\u001b[49m\u001b[43m)\u001b[49m)\n\u001b[0;32m    125\u001b[0m     \u001b[38;5;28;01melse\u001b[39;00m:\n\u001b[0;32m    126\u001b[0m         x \u001b[38;5;241m=\u001b[39m \u001b[38;5;28mself\u001b[39m\u001b[38;5;241m.\u001b[39mgc1(x, adj)\n",
      "File \u001b[1;32m~\\AppData\\Local\\Packages\\PythonSoftwareFoundation.Python.3.9_qbz5n2kfra8p0\\LocalCache\\local-packages\\Python39\\site-packages\\torch\\nn\\modules\\module.py:1511\u001b[0m, in \u001b[0;36mModule._wrapped_call_impl\u001b[1;34m(self, *args, **kwargs)\u001b[0m\n\u001b[0;32m   1509\u001b[0m     \u001b[38;5;28;01mreturn\u001b[39;00m \u001b[38;5;28mself\u001b[39m\u001b[38;5;241m.\u001b[39m_compiled_call_impl(\u001b[38;5;241m*\u001b[39margs, \u001b[38;5;241m*\u001b[39m\u001b[38;5;241m*\u001b[39mkwargs)  \u001b[38;5;66;03m# type: ignore[misc]\u001b[39;00m\n\u001b[0;32m   1510\u001b[0m \u001b[38;5;28;01melse\u001b[39;00m:\n\u001b[1;32m-> 1511\u001b[0m     \u001b[38;5;28;01mreturn\u001b[39;00m \u001b[38;5;28mself\u001b[39m\u001b[38;5;241m.\u001b[39m_call_impl(\u001b[38;5;241m*\u001b[39margs, \u001b[38;5;241m*\u001b[39m\u001b[38;5;241m*\u001b[39mkwargs)\n",
      "File \u001b[1;32m~\\AppData\\Local\\Packages\\PythonSoftwareFoundation.Python.3.9_qbz5n2kfra8p0\\LocalCache\\local-packages\\Python39\\site-packages\\torch\\nn\\modules\\module.py:1520\u001b[0m, in \u001b[0;36mModule._call_impl\u001b[1;34m(self, *args, **kwargs)\u001b[0m\n\u001b[0;32m   1515\u001b[0m \u001b[38;5;66;03m# If we don't have any hooks, we want to skip the rest of the logic in\u001b[39;00m\n\u001b[0;32m   1516\u001b[0m \u001b[38;5;66;03m# this function, and just call forward.\u001b[39;00m\n\u001b[0;32m   1517\u001b[0m \u001b[38;5;28;01mif\u001b[39;00m \u001b[38;5;129;01mnot\u001b[39;00m (\u001b[38;5;28mself\u001b[39m\u001b[38;5;241m.\u001b[39m_backward_hooks \u001b[38;5;129;01mor\u001b[39;00m \u001b[38;5;28mself\u001b[39m\u001b[38;5;241m.\u001b[39m_backward_pre_hooks \u001b[38;5;129;01mor\u001b[39;00m \u001b[38;5;28mself\u001b[39m\u001b[38;5;241m.\u001b[39m_forward_hooks \u001b[38;5;129;01mor\u001b[39;00m \u001b[38;5;28mself\u001b[39m\u001b[38;5;241m.\u001b[39m_forward_pre_hooks\n\u001b[0;32m   1518\u001b[0m         \u001b[38;5;129;01mor\u001b[39;00m _global_backward_pre_hooks \u001b[38;5;129;01mor\u001b[39;00m _global_backward_hooks\n\u001b[0;32m   1519\u001b[0m         \u001b[38;5;129;01mor\u001b[39;00m _global_forward_hooks \u001b[38;5;129;01mor\u001b[39;00m _global_forward_pre_hooks):\n\u001b[1;32m-> 1520\u001b[0m     \u001b[38;5;28;01mreturn\u001b[39;00m forward_call(\u001b[38;5;241m*\u001b[39margs, \u001b[38;5;241m*\u001b[39m\u001b[38;5;241m*\u001b[39mkwargs)\n\u001b[0;32m   1522\u001b[0m \u001b[38;5;28;01mtry\u001b[39;00m:\n\u001b[0;32m   1523\u001b[0m     result \u001b[38;5;241m=\u001b[39m \u001b[38;5;28;01mNone\u001b[39;00m\n",
      "File \u001b[1;32m~\\AppData\\Local\\Packages\\PythonSoftwareFoundation.Python.3.9_qbz5n2kfra8p0\\LocalCache\\local-packages\\Python39\\site-packages\\deeprobust\\graph\\defense\\gcn.py:36\u001b[0m, in \u001b[0;36mGraphConvolution.forward\u001b[1;34m(self, input, adj)\u001b[0m\n\u001b[0;32m     33\u001b[0m \u001b[38;5;28;01mdef\u001b[39;00m \u001b[38;5;21mforward\u001b[39m(\u001b[38;5;28mself\u001b[39m, \u001b[38;5;28minput\u001b[39m, adj):\n\u001b[0;32m     34\u001b[0m \u001b[38;5;250m    \u001b[39m\u001b[38;5;124;03m\"\"\" Graph Convolutional Layer forward function\u001b[39;00m\n\u001b[0;32m     35\u001b[0m \u001b[38;5;124;03m    \"\"\"\u001b[39;00m\n\u001b[1;32m---> 36\u001b[0m     \u001b[38;5;28;01mif\u001b[39;00m \u001b[38;5;28;43minput\u001b[39;49m\u001b[38;5;241;43m.\u001b[39;49m\u001b[43mdata\u001b[49m\u001b[38;5;241;43m.\u001b[39;49m\u001b[43mis_sparse\u001b[49m:\n\u001b[0;32m     37\u001b[0m         support \u001b[38;5;241m=\u001b[39m torch\u001b[38;5;241m.\u001b[39mspmm(\u001b[38;5;28minput\u001b[39m, \u001b[38;5;28mself\u001b[39m\u001b[38;5;241m.\u001b[39mweight)\n\u001b[0;32m     38\u001b[0m     \u001b[38;5;28;01melse\u001b[39;00m:\n",
      "\u001b[1;31mAttributeError\u001b[0m: 'numpy.ndarray' object has no attribute 'is_sparse'"
     ]
    }
   ],
   "source": [
    "#### Mahsa Test after CryptoGraph ####\n",
    "import matplotlib.pyplot as plt\n",
    "from sklearn.metrics import accuracy_score\n",
    "\n",
    "# Get the model's predictions\n",
    "# outputs = model(features) \n",
    "\n",
    "# Assume that 'new_features' is your new node features matrix\n",
    "outputs1 = model.gcn1.forward(adj1, features)\n",
    "outputs2 = model.gcn2.forward(features)\n",
    "\n",
    "outputs = model.forward(features)\n",
    "\n",
    "_ , predicted_classes = outputs.max(dim=1) # get the predicted classes for each node\n",
    "_, predicted = outputs.max(1)\n",
    "\n",
    "# Create a color map based on the predicted labels\n",
    "color_map = predicted.numpy()  # convert to numpy array for indexing\n",
    "# Draw the graph\n",
    "nx.draw(graph, node_color=color_map, with_labels=True)\n",
    "plt.show()\n",
    "\n",
    "\n",
    "#evaluate accuracy of trained GCN model\n",
    "# Get the true labels and predicted labels for the test nodes\n",
    "true_labels = labels[idx_test].cpu().numpy()\n",
    "predicted_labels = predicted[idx_test].cpu().numpy()\n",
    "\n",
    "# Calculate the accuracy\n",
    "accuracy = accuracy_score(true_labels, predicted_labels)\n",
    "print(f'Accuracy: {accuracy}')\n",
    "\n"
   ]
  },
  {
   "cell_type": "code",
   "execution_count": 6,
   "metadata": {},
   "outputs": [
    {
     "name": "stdout",
     "output_type": "stream",
     "text": [
      "Test accuracy: 0.80\n",
      "Test accuracy after attack: 0.80\n"
     ]
    }
   ],
   "source": [
    "################################# Evaluation ###############################\n",
    "print(f\"Test accuracy: {accuracies[0]:.2f}\")\n",
    "print(f\"Test accuracy after attack: {accuracies[1]:.2f}\")\n",
    "#print(f\"Test accuracy after defense: {accuracies[2]:.2f}\")\n",
    "#print(f\"Test accuracy after attack and defense: {accuracies[3]:.2f}\")\n",
    "\n"
   ]
  }
 ],
 "metadata": {
  "kernelspec": {
   "display_name": "Python 3",
   "language": "python",
   "name": "python3"
  },
  "language_info": {
   "codemirror_mode": {
    "name": "ipython",
    "version": 3
   },
   "file_extension": ".py",
   "mimetype": "text/x-python",
   "name": "python",
   "nbconvert_exporter": "python",
   "pygments_lexer": "ipython3",
   "version": "3.9.13"
  }
 },
 "nbformat": 4,
 "nbformat_minor": 2
}
