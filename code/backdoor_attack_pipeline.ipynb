{
 "cells": [
  {
   "cell_type": "code",
   "execution_count": 2,
   "metadata": {},
   "outputs": [],
   "source": [
    "import torch\n",
    "import numpy as np\n",
    "import torch.nn.functional as F\n",
    "import torch.optim as optim\n",
    "from deeprobust.graph.defense import GCN\n",
    "from deeprobust.graph.targeted_attack import FGA\n",
    "from deeprobust.graph.utils import *\n",
    "from deeprobust.graph.data import Dataset\n",
    "from tqdm import tqdm\n",
    "import argparse\n",
    "from experiments import split_dataset\n",
    "from DistributedDefense import TwoPartyCNGCN\n",
    "import networkx as nx\n",
    "from scipy.sparse import csr_matrix\n",
    "import Mahsa_backdoor_V0 as backdoor\n",
    "#from torch.utils.data import random_split"
   ]
  },
  {
   "cell_type": "code",
   "execution_count": 8,
   "metadata": {},
   "outputs": [
    {
     "name": "stdout",
     "output_type": "stream",
     "text": [
      "Loading polblogs dataset...\n",
      "Selecting 1 largest connected components\n"
     ]
    }
   ],
   "source": [
    "####################### Data loading and preprocessing #######################\n",
    "device = torch.device(\"cuda:0\" if torch.cuda.is_available() else \"cpu\")\n",
    "\n",
    "# Load data\n",
    "dataset = \"polblogs\"\n",
    "#data = Dataset(root='/tmp/', name=dataset)  : this is for unix-based systems\n",
    "\n",
    "# Use the current directory for windows\n",
    "data = Dataset(root='.', name=dataset)\n",
    "#data = Dataset(root='/tmp/', name=dataset)\n",
    "\n",
    "adj, features, labels = data.adj, data.features, data.labels\n",
    "idx_train, idx_val, idx_test = data.idx_train, data.idx_val, data.idx_test\n",
    "\n",
    "###########\n",
    "#split idx_test into two parts randomly\n",
    "from sklearn.model_selection import train_test_split\n",
    "\n",
    "test_size = 0.2  # 20% for test_attack, 80% for test_clean\n",
    "idx_test_attack, idx_test_clean = train_test_split(idx_test, test_size=test_size, random_state=42)\n",
    "\n",
    "\n",
    "# Split graph into two graphs \n",
    "proportion_of_common_links = 0.5\n",
    "adj1, adj2 = split_dataset(adj, proportion_of_common_links) \n"
   ]
  },
  {
   "cell_type": "code",
   "execution_count": 17,
   "metadata": {},
   "outputs": [
    {
     "name": "stdout",
     "output_type": "stream",
     "text": [
      "Dropping dissimilar edges using metric :  neighbors  on links\n",
      "removed 1669 edges in polblogs 1\n",
      "removed 1659 edges in polblogs 2\n",
      "*** polblogs 1 ***\n",
      "Test set results: loss= 0.3366 accuracy= 0.8057\n",
      "*** polblogs 2 ***\n",
      "Test set results: loss= 0.3359 accuracy= 0.8047\n",
      "*** polblogs 1 ***\n",
      "Test set results: loss= 0.3362 accuracy= 0.8082\n",
      "*** polblogs 2 ***\n",
      "Test set results: loss= 0.3377 accuracy= 0.8043\n",
      "*** polblogs 1 ***\n",
      "Test set results: loss= 0.3379 accuracy= 0.7959\n",
      "*** polblogs 2 ***\n",
      "Test set results: loss= 0.3283 accuracy= 0.8061\n",
      "accuracy before attack on test:  (0.8081841432225064, 0.8043478260869565)\n",
      "accuracy before attack (clean):  (0.7959183673469388, 0.8061224489795918)\n"
     ]
    },
    {
     "ename": "AttributeError",
     "evalue": "'TwoPartyCNGCN' object has no attribute 'predict'",
     "output_type": "error",
     "traceback": [
      "\u001b[1;31m---------------------------------------------------------------------------\u001b[0m",
      "\u001b[1;31mAttributeError\u001b[0m                            Traceback (most recent call last)",
      "Cell \u001b[1;32mIn[17], line 19\u001b[0m\n\u001b[0;32m     16\u001b[0m \u001b[38;5;28mprint\u001b[39m(\u001b[38;5;124m\"\u001b[39m\u001b[38;5;124maccuracy before attack on test: \u001b[39m\u001b[38;5;124m\"\u001b[39m, accuracies_ASR_before)\n\u001b[0;32m     17\u001b[0m \u001b[38;5;28mprint\u001b[39m(\u001b[38;5;124m\"\u001b[39m\u001b[38;5;124maccuracy before attack (clean): \u001b[39m\u001b[38;5;124m\"\u001b[39m, accuracies_clean_before)\n\u001b[1;32m---> 19\u001b[0m ppp \u001b[38;5;241m=\u001b[39m \u001b[43mmodel\u001b[49m\u001b[38;5;241;43m.\u001b[39;49m\u001b[43mpredict\u001b[49m(idx_test)\n",
      "\u001b[1;31mAttributeError\u001b[0m: 'TwoPartyCNGCN' object has no attribute 'predict'"
     ]
    }
   ],
   "source": [
    "############################ evaluation before attack ###########################\n",
    "# Perform evaluation before attack to find the baseline accuracy\n",
    "\n",
    "threshold = 2               # threshold for dropping dissimilar edges\n",
    "metric = \"neighbors\"        # metric for dropping dissimilar edges (neighbors, jaccard, cosine)\n",
    "object = \"links\"            # object for defense (links, features)\n",
    "\n",
    "model = TwoPartyCNGCN(dataset=dataset, nfeat=features.shape[1], nhid=16, nclass=labels.max().item() + 1,\n",
    "                          device=device)\n",
    "model.fit(adj1.copy(), adj2.copy(), features, features, labels, idx_train, threshold, metric=metric, object=object,\n",
    "            train_iters=200, initialize=True, verbose=False, idx_val=idx_val)\n",
    "model.eval()\n",
    "accuracies = model.test(idx_test)  #accuracy of the model after the defense on all the test data - (all the nodes)\n",
    "accuracies_ASR_before = model.test(idx_test_attack)\n",
    "accuracies_clean_before = model.test(idx_test_clean)\n",
    "print(\"accuracy before attack on test: \", accuracies_ASR_before)\n",
    "print(\"accuracy before attack (clean): \", accuracies_clean_before)\n",
    "\n",
    "\n",
    "# output = model.predict()\n",
    "# target_node_label = output[target_node].max(0)[1]\n",
    "# print(\"Predicted label for target node: \", target_node_label)\n",
    "# print(\"True label for target node: \", target_label)\n",
    "\n"
   ]
  },
  {
   "cell_type": "code",
   "execution_count": 13,
   "metadata": {},
   "outputs": [
    {
     "name": "stdout",
     "output_type": "stream",
     "text": [
      "graph edges : 16714\n",
      "graph nodes : 1222\n",
      "Target node is 6 with label 0 and budget 200\n",
      "target node : 6, target label : 0, budget : 200\n",
      "Edge insertion is successful and 200 edges has been inserted between 6 and : [(672, 0.8703703703703703, 6), (591, 0.8133333333333334, 5), (1167, 0.8390804597701149, 4), (741, 0.8365384615384616, 4), (734, 0.8214285714285714, 4), (1077, 0.8142857142857143, 4), (1179, 0.5217391304347826, 4), (677, 0.25, 4), (906, 0.014925373134328358, 4), (881, 0.9647058823529412, 3), (921, 0.933649289099526, 3), (967, 0.8620689655172413, 3), (1134, 0.8571428571428571, 3), (1136, 0.8275862068965517, 3), (837, 0.826797385620915, 3), (977, 0.7692307692307693, 3), (638, 0.7525773195876289, 3), (867, 0.6666666666666666, 3), (742, 0.6538461538461539, 3), (894, 0.5, 3), (930, 0.9555555555555556, 2), (691, 0.9453125, 2), (931, 0.9411764705882353, 2), (829, 0.9175824175824175, 2), (1165, 0.9166666666666666, 2), (1006, 0.9078947368421053, 2), (708, 0.9032258064516129, 2), (597, 0.9, 2), (988, 0.8876404494382022, 2), (1198, 0.8768115942028986, 2), (1034, 0.8666666666666667, 2), (1150, 0.8666666666666667, 2), (1183, 0.8666666666666667, 2), (1181, 0.8571428571428571, 2), (965, 0.85, 2), (974, 0.8373983739837398, 2), (657, 0.8214285714285714, 2), (749, 0.8095238095238095, 2), (1074, 0.8055555555555556, 2), (920, 0.7714285714285715, 2), (1041, 0.7647058823529411, 2), (699, 0.7435897435897436, 2), (1199, 0.7413793103448276, 2), (868, 0.7307692307692307, 2), (981, 0.7272727272727273, 2), (610, 0.71875, 2), (1124, 0.673469387755102, 2), (629, 0.07692307692307693, 2), (1149, 1.0, 1), (919, 1.0, 1), (839, 1.0, 1), (1118, 1.0, 1), (1071, 1.0, 1), (1155, 1.0, 1), (808, 1.0, 1), (1164, 1.0, 1), (992, 1.0, 1), (1053, 1.0, 1), (1188, 1.0, 1), (905, 1.0, 1), (752, 1.0, 1), (886, 1.0, 1), (688, 1.0, 1), (789, 1.0, 1), (1060, 1.0, 1), (695, 1.0, 1), (959, 1.0, 1), (792, 1.0, 1), (842, 1.0, 1), (1145, 1.0, 1), (631, 1.0, 1), (675, 1.0, 1), (843, 1.0, 1), (862, 1.0, 1), (1052, 1.0, 1), (660, 1.0, 1), (724, 1.0, 1), (902, 1.0, 1), (933, 1.0, 1), (756, 1.0, 1), (1021, 1.0, 1), (1107, 1.0, 1), (1112, 1.0, 1), (1174, 1.0, 1), (1182, 1.0, 1), (803, 1.0, 1), (860, 1.0, 1), (1003, 1.0, 1), (1089, 1.0, 1), (1157, 1.0, 1), (697, 1.0, 1), (932, 0.987012987012987, 1), (671, 0.9833887043189369, 1), (952, 0.9814814814814815, 1), (602, 0.9722222222222222, 1), (758, 0.971830985915493, 1), (863, 0.9682539682539683, 1), (934, 0.9666666666666667, 1), (588, 0.9642857142857143, 1), (986, 0.9642857142857143, 1), (601, 0.9583333333333334, 1), (1098, 0.9583333333333334, 1), (909, 0.9550561797752809, 1), (706, 0.9523809523809523, 1), (1093, 0.95, 1), (877, 0.9473684210526315, 1), (936, 0.9411764705882353, 1), (710, 0.9375, 1), (823, 0.9333333333333333, 1), (956, 0.9306930693069307, 1), (884, 0.9302325581395349, 1), (900, 0.9302325581395349, 1), (889, 0.9285714285714286, 1), (916, 0.9285714285714286, 1), (1169, 0.9264705882352942, 1), (1196, 0.9242424242424242, 1), (740, 0.9230769230769231, 1), (698, 0.9166666666666666, 1), (693, 0.9147286821705426, 1), (627, 0.9117647058823529, 1), (835, 0.9021739130434783, 1), (1104, 0.9, 1), (590, 0.8983050847457628, 1), (1067, 0.8969072164948454, 1), (776, 0.8947368421052632, 1), (644, 0.8939393939393939, 1), (998, 0.8928571428571429, 1), (1144, 0.8888888888888888, 1), (1029, 0.8833333333333333, 1), (1048, 0.8823529411764706, 1), (1106, 0.8813559322033898, 1), (656, 0.8809523809523809, 1), (999, 0.875, 1), (767, 0.8683127572016461, 1), (1185, 0.8666666666666667, 1), (778, 0.8571428571428571, 1), (673, 0.85, 1), (1049, 0.8333333333333334, 1), (1065, 0.8333333333333334, 1), (1170, 0.8307692307692308, 1), (1075, 0.8235294117647058, 1), (801, 0.8148148148148148, 1), (649, 0.8, 1), (692, 0.8, 1), (704, 0.8, 1), (945, 0.7898550724637681, 1), (771, 0.7777777777777778, 1), (773, 0.75, 1), (1090, 0.75, 1), (847, 0.7466666666666667, 1), (912, 0.7333333333333333, 1), (772, 0.7142857142857143, 1), (1125, 0.6923076923076923, 1), (958, 0.6666666666666666, 1), (888, 0.6, 1), (618, 0.5944055944055944, 1), (700, 0.5, 1), (617, 0.5, 1), (655, 0.45454545454545453, 1), (856, 0.25, 1), (993, 0.1, 1), (954, 0.0, 1), (757, 1.0, 0), (637, 1.0, 0), (852, 1.0, 0), (593, 1.0, 0), (873, 1.0, 0), (774, 1.0, 0), (1192, 1.0, 0), (670, 1.0, 0), (1152, 1.0, 0), (1132, 1.0, 0), (960, 1.0, 0), (1141, 1.0, 0), (613, 1.0, 0), (1047, 1.0, 0), (957, 1.0, 0), (1109, 1.0, 0), (662, 1.0, 0), (788, 1.0, 0), (730, 1.0, 0), (1082, 1.0, 0), (1094, 1.0, 0), (634, 1.0, 0), (825, 1.0, 0), (596, 1.0, 0), (754, 1.0, 0), (870, 1.0, 0), (828, 1.0, 0), (1004, 1.0, 0), (1087, 1.0, 0), (907, 1.0, 0), (1143, 1.0, 0), (806, 1.0, 0), (658, 1.0, 0), (983, 1.0, 0), (1208, 1.0, 0), (686, 1.0, 0), (726, 1.0, 0), (892, 1.0, 0)]\n"
     ]
    },
    {
     "ename": "AttributeError",
     "evalue": "'TwoPartyCNGCN' object has no attribute 'predict'",
     "output_type": "error",
     "traceback": [
      "\u001b[1;31m---------------------------------------------------------------------------\u001b[0m",
      "\u001b[1;31mAttributeError\u001b[0m                            Traceback (most recent call last)",
      "Cell \u001b[1;32mIn[13], line 28\u001b[0m\n\u001b[0;32m     25\u001b[0m modified_adj1 \u001b[38;5;241m=\u001b[39mbackdoor\u001b[38;5;241m.\u001b[39mconvert(attacked_graph)\n\u001b[0;32m     27\u001b[0m model\u001b[38;5;241m.\u001b[39meval()\n\u001b[1;32m---> 28\u001b[0m output \u001b[38;5;241m=\u001b[39m \u001b[43mmodel\u001b[49m\u001b[38;5;241;43m.\u001b[39;49m\u001b[43mpredict\u001b[49m()\n\u001b[0;32m     29\u001b[0m target_node_label \u001b[38;5;241m=\u001b[39m output[target_node]\u001b[38;5;241m.\u001b[39mmax(\u001b[38;5;241m0\u001b[39m)[\u001b[38;5;241m1\u001b[39m]\n\u001b[0;32m     30\u001b[0m \u001b[38;5;28mprint\u001b[39m(\u001b[38;5;124m\"\u001b[39m\u001b[38;5;124mPredicted label for target node: \u001b[39m\u001b[38;5;124m\"\u001b[39m, target_node_label)\n",
      "\u001b[1;31mAttributeError\u001b[0m: 'TwoPartyCNGCN' object has no attribute 'predict'"
     ]
    }
   ],
   "source": [
    "################################ Mahsa attack ###############################\n",
    "# Perform the attack\n",
    "# \n",
    "modified_adj1 =  adj1.copy()\n",
    "\n",
    "# Create a NetworkX graph from the adjacency matrix\n",
    "graph = nx.from_scipy_sparse_array(modified_adj1)\n",
    "\n",
    "# Add labels to the graph\n",
    "for node_id, label in enumerate(labels):\n",
    "    graph.nodes[node_id]['label'] = label\n",
    "# print(f\"lenght of the labels : {len(labels)}\") \n",
    "print(f\"graph edges : {graph.number_of_edges()}\")\n",
    "print(f\"graph nodes : {graph.number_of_nodes()}\")\n",
    "\n",
    "\n",
    "target_node, target_label, budget = backdoor.target(graph)   \n",
    "\n",
    "print(f\"target node : {target_node}, target label : {target_label}, budget : {budget}\")\n",
    "non_neighbor_opposit= backdoor.find_non_neighbor_opposit_label(graph, target_node, target_label)\n",
    "max_same_min_opposit_label_neighbors= backdoor.find_max_same_min_opposit_label_neighbors(graph, non_neighbor_opposit)\n",
    "nodes_for_attack = backdoor.nodes_for_attack(graph, target_node, max_same_min_opposit_label_neighbors, budget)\n",
    "attacked_graph = backdoor.insert_edge(graph, target_node, nodes_for_attack)\n",
    "backdoor.evaluate_graph(attacked_graph, nodes_for_attack, target_node, budget)\n",
    "modified_adj1 =backdoor.convert(attacked_graph)\n",
    "\n",
    "\n",
    "print(attacked_graph)\n",
    "\n"
   ]
  },
  {
   "cell_type": "code",
   "execution_count": 7,
   "metadata": {},
   "outputs": [
    {
     "name": "stdout",
     "output_type": "stream",
     "text": [
      "Dropping dissimilar edges using metric :  neighbors  on links\n",
      "removed 1636 edges in polblogs 1\n",
      "removed 1577 edges in polblogs 2\n",
      "*** polblogs 1 ***\n",
      "Test set results: loss= 0.3695 accuracy= 0.7975\n",
      "*** polblogs 2 ***\n",
      "Test set results: loss= 0.3578 accuracy= 0.8016\n",
      "*** polblogs 1 ***\n",
      "Test set results: loss= 0.3604 accuracy= 0.8005\n",
      "*** polblogs 2 ***\n",
      "Test set results: loss= 0.3589 accuracy= 0.8018\n",
      "*** polblogs 1 ***\n",
      "Test set results: loss= 0.4060 accuracy= 0.7857\n",
      "*** polblogs 2 ***\n",
      "Test set results: loss= 0.3534 accuracy= 0.8010\n",
      "accuracy after attack on test:  (0.8005115089514067, 0.8017902813299232)\n",
      "accuracy after attack (clean):  (0.7857142857142857, 0.8010204081632653)\n"
     ]
    }
   ],
   "source": [
    "############################ Crypto'Graph defense ###########################\n",
    "# Perform Crypto'Graph distributed defense\n",
    "\n",
    "threshold = 2               # threshold for dropping dissimilar edges\n",
    "metric = \"neighbors\"        # metric for dropping dissimilar edges (neighbors, jaccard, cosine)\n",
    "object = \"links\"            # object for defense (links, features)\n",
    "\n",
    "model = TwoPartyCNGCN(dataset=dataset, nfeat=features.shape[1], nhid=16, nclass=labels.max().item() + 1,\n",
    "                          device=device)\n",
    "model.fit(modified_adj1.copy(), adj2.copy(), features, features, labels, idx_train, threshold, metric=metric, object=object,\n",
    "            train_iters=200, initialize=True, verbose=False, idx_val=idx_val)\n",
    "model.eval()\n",
    "accuracies = model.test(idx_test)  #accuracy of the model after the defense on all the test data - (all the nodes)\n",
    "accuracies_ASR = model.test(idx_test_attack)\n",
    "accuracies_clean = model.test(idx_test_clean)\n",
    "print(\"accuracy after attack on test: \", accuracies_ASR)\n",
    "print(\"accuracy after attack (clean): \", accuracies_clean)"
   ]
  },
  {
   "cell_type": "code",
   "execution_count": null,
   "metadata": {},
   "outputs": [],
   "source": [
    "########evaluation after attack################\n",
    "ASR = accuracies_ASR - "
   ]
  },
  {
   "cell_type": "code",
   "execution_count": 12,
   "metadata": {},
   "outputs": [
    {
     "ename": "AttributeError",
     "evalue": "'numpy.ndarray' object has no attribute 'is_sparse'",
     "output_type": "error",
     "traceback": [
      "\u001b[1;31m---------------------------------------------------------------------------\u001b[0m",
      "\u001b[1;31mAttributeError\u001b[0m                            Traceback (most recent call last)",
      "Cell \u001b[1;32mIn[12], line 9\u001b[0m\n\u001b[0;32m      3\u001b[0m \u001b[38;5;28;01mfrom\u001b[39;00m \u001b[38;5;21;01msklearn\u001b[39;00m\u001b[38;5;21;01m.\u001b[39;00m\u001b[38;5;21;01mmetrics\u001b[39;00m \u001b[38;5;28;01mimport\u001b[39;00m accuracy_score\n\u001b[0;32m      5\u001b[0m \u001b[38;5;66;03m# Get the model's predictions\u001b[39;00m\n\u001b[0;32m      6\u001b[0m \u001b[38;5;66;03m# outputs = model(features) \u001b[39;00m\n\u001b[0;32m      7\u001b[0m \n\u001b[0;32m      8\u001b[0m \u001b[38;5;66;03m# Assume that 'new_features' is your new node features matrix\u001b[39;00m\n\u001b[1;32m----> 9\u001b[0m outputs1 \u001b[38;5;241m=\u001b[39m \u001b[43mmodel\u001b[49m\u001b[38;5;241;43m.\u001b[39;49m\u001b[43mgcn1\u001b[49m\u001b[38;5;241;43m.\u001b[39;49m\u001b[43mforward\u001b[49m\u001b[43m(\u001b[49m\u001b[43madj1\u001b[49m\u001b[43m,\u001b[49m\u001b[43m \u001b[49m\u001b[43mfeatures\u001b[49m\u001b[43m)\u001b[49m\n\u001b[0;32m     10\u001b[0m outputs2 \u001b[38;5;241m=\u001b[39m model\u001b[38;5;241m.\u001b[39mgcn2\u001b[38;5;241m.\u001b[39mforward(features)\n\u001b[0;32m     12\u001b[0m outputs \u001b[38;5;241m=\u001b[39m model\u001b[38;5;241m.\u001b[39mforward(features)\n",
      "File \u001b[1;32m~\\AppData\\Local\\Packages\\PythonSoftwareFoundation.Python.3.9_qbz5n2kfra8p0\\LocalCache\\local-packages\\Python39\\site-packages\\deeprobust\\graph\\defense\\gcn.py:124\u001b[0m, in \u001b[0;36mGCN.forward\u001b[1;34m(self, x, adj)\u001b[0m\n\u001b[0;32m    122\u001b[0m \u001b[38;5;28;01mdef\u001b[39;00m \u001b[38;5;21mforward\u001b[39m(\u001b[38;5;28mself\u001b[39m, x, adj):\n\u001b[0;32m    123\u001b[0m     \u001b[38;5;28;01mif\u001b[39;00m \u001b[38;5;28mself\u001b[39m\u001b[38;5;241m.\u001b[39mwith_relu:\n\u001b[1;32m--> 124\u001b[0m         x \u001b[38;5;241m=\u001b[39m F\u001b[38;5;241m.\u001b[39mrelu(\u001b[38;5;28;43mself\u001b[39;49m\u001b[38;5;241;43m.\u001b[39;49m\u001b[43mgc1\u001b[49m\u001b[43m(\u001b[49m\u001b[43mx\u001b[49m\u001b[43m,\u001b[49m\u001b[43m \u001b[49m\u001b[43madj\u001b[49m\u001b[43m)\u001b[49m)\n\u001b[0;32m    125\u001b[0m     \u001b[38;5;28;01melse\u001b[39;00m:\n\u001b[0;32m    126\u001b[0m         x \u001b[38;5;241m=\u001b[39m \u001b[38;5;28mself\u001b[39m\u001b[38;5;241m.\u001b[39mgc1(x, adj)\n",
      "File \u001b[1;32m~\\AppData\\Local\\Packages\\PythonSoftwareFoundation.Python.3.9_qbz5n2kfra8p0\\LocalCache\\local-packages\\Python39\\site-packages\\torch\\nn\\modules\\module.py:1511\u001b[0m, in \u001b[0;36mModule._wrapped_call_impl\u001b[1;34m(self, *args, **kwargs)\u001b[0m\n\u001b[0;32m   1509\u001b[0m     \u001b[38;5;28;01mreturn\u001b[39;00m \u001b[38;5;28mself\u001b[39m\u001b[38;5;241m.\u001b[39m_compiled_call_impl(\u001b[38;5;241m*\u001b[39margs, \u001b[38;5;241m*\u001b[39m\u001b[38;5;241m*\u001b[39mkwargs)  \u001b[38;5;66;03m# type: ignore[misc]\u001b[39;00m\n\u001b[0;32m   1510\u001b[0m \u001b[38;5;28;01melse\u001b[39;00m:\n\u001b[1;32m-> 1511\u001b[0m     \u001b[38;5;28;01mreturn\u001b[39;00m \u001b[38;5;28mself\u001b[39m\u001b[38;5;241m.\u001b[39m_call_impl(\u001b[38;5;241m*\u001b[39margs, \u001b[38;5;241m*\u001b[39m\u001b[38;5;241m*\u001b[39mkwargs)\n",
      "File \u001b[1;32m~\\AppData\\Local\\Packages\\PythonSoftwareFoundation.Python.3.9_qbz5n2kfra8p0\\LocalCache\\local-packages\\Python39\\site-packages\\torch\\nn\\modules\\module.py:1520\u001b[0m, in \u001b[0;36mModule._call_impl\u001b[1;34m(self, *args, **kwargs)\u001b[0m\n\u001b[0;32m   1515\u001b[0m \u001b[38;5;66;03m# If we don't have any hooks, we want to skip the rest of the logic in\u001b[39;00m\n\u001b[0;32m   1516\u001b[0m \u001b[38;5;66;03m# this function, and just call forward.\u001b[39;00m\n\u001b[0;32m   1517\u001b[0m \u001b[38;5;28;01mif\u001b[39;00m \u001b[38;5;129;01mnot\u001b[39;00m (\u001b[38;5;28mself\u001b[39m\u001b[38;5;241m.\u001b[39m_backward_hooks \u001b[38;5;129;01mor\u001b[39;00m \u001b[38;5;28mself\u001b[39m\u001b[38;5;241m.\u001b[39m_backward_pre_hooks \u001b[38;5;129;01mor\u001b[39;00m \u001b[38;5;28mself\u001b[39m\u001b[38;5;241m.\u001b[39m_forward_hooks \u001b[38;5;129;01mor\u001b[39;00m \u001b[38;5;28mself\u001b[39m\u001b[38;5;241m.\u001b[39m_forward_pre_hooks\n\u001b[0;32m   1518\u001b[0m         \u001b[38;5;129;01mor\u001b[39;00m _global_backward_pre_hooks \u001b[38;5;129;01mor\u001b[39;00m _global_backward_hooks\n\u001b[0;32m   1519\u001b[0m         \u001b[38;5;129;01mor\u001b[39;00m _global_forward_hooks \u001b[38;5;129;01mor\u001b[39;00m _global_forward_pre_hooks):\n\u001b[1;32m-> 1520\u001b[0m     \u001b[38;5;28;01mreturn\u001b[39;00m forward_call(\u001b[38;5;241m*\u001b[39margs, \u001b[38;5;241m*\u001b[39m\u001b[38;5;241m*\u001b[39mkwargs)\n\u001b[0;32m   1522\u001b[0m \u001b[38;5;28;01mtry\u001b[39;00m:\n\u001b[0;32m   1523\u001b[0m     result \u001b[38;5;241m=\u001b[39m \u001b[38;5;28;01mNone\u001b[39;00m\n",
      "File \u001b[1;32m~\\AppData\\Local\\Packages\\PythonSoftwareFoundation.Python.3.9_qbz5n2kfra8p0\\LocalCache\\local-packages\\Python39\\site-packages\\deeprobust\\graph\\defense\\gcn.py:36\u001b[0m, in \u001b[0;36mGraphConvolution.forward\u001b[1;34m(self, input, adj)\u001b[0m\n\u001b[0;32m     33\u001b[0m \u001b[38;5;28;01mdef\u001b[39;00m \u001b[38;5;21mforward\u001b[39m(\u001b[38;5;28mself\u001b[39m, \u001b[38;5;28minput\u001b[39m, adj):\n\u001b[0;32m     34\u001b[0m \u001b[38;5;250m    \u001b[39m\u001b[38;5;124;03m\"\"\" Graph Convolutional Layer forward function\u001b[39;00m\n\u001b[0;32m     35\u001b[0m \u001b[38;5;124;03m    \"\"\"\u001b[39;00m\n\u001b[1;32m---> 36\u001b[0m     \u001b[38;5;28;01mif\u001b[39;00m \u001b[38;5;28;43minput\u001b[39;49m\u001b[38;5;241;43m.\u001b[39;49m\u001b[43mdata\u001b[49m\u001b[38;5;241;43m.\u001b[39;49m\u001b[43mis_sparse\u001b[49m:\n\u001b[0;32m     37\u001b[0m         support \u001b[38;5;241m=\u001b[39m torch\u001b[38;5;241m.\u001b[39mspmm(\u001b[38;5;28minput\u001b[39m, \u001b[38;5;28mself\u001b[39m\u001b[38;5;241m.\u001b[39mweight)\n\u001b[0;32m     38\u001b[0m     \u001b[38;5;28;01melse\u001b[39;00m:\n",
      "\u001b[1;31mAttributeError\u001b[0m: 'numpy.ndarray' object has no attribute 'is_sparse'"
     ]
    }
   ],
   "source": [
    "#### Mahsa Test after CryptoGraph ####\n",
    "import matplotlib.pyplot as plt\n",
    "from sklearn.metrics import accuracy_score\n",
    "\n",
    "# Get the model's predictions\n",
    "# outputs = model(features) \n",
    "\n",
    "# Assume that 'new_features' is your new node features matrix\n",
    "outputs1 = model.gcn1.forward(adj1, features)\n",
    "outputs2 = model.gcn2.forward(features)\n",
    "\n",
    "outputs = model.forward(features)\n",
    "\n",
    "_ , predicted_classes = outputs.max(dim=1) # get the predicted classes for each node\n",
    "_, predicted = outputs.max(1)\n",
    "\n",
    "# Create a color map based on the predicted labels\n",
    "color_map = predicted.numpy()  # convert to numpy array for indexing\n",
    "# Draw the graph\n",
    "nx.draw(graph, node_color=color_map, with_labels=True)\n",
    "plt.show()\n",
    "\n",
    "\n",
    "#evaluate accuracy of trained GCN model\n",
    "# Get the true labels and predicted labels for the test nodes\n",
    "true_labels = labels[idx_test].cpu().numpy()\n",
    "predicted_labels = predicted[idx_test].cpu().numpy()\n",
    "\n",
    "# Calculate the accuracy\n",
    "accuracy = accuracy_score(true_labels, predicted_labels)\n",
    "print(f'Accuracy: {accuracy}')\n",
    "\n"
   ]
  },
  {
   "cell_type": "code",
   "execution_count": 6,
   "metadata": {},
   "outputs": [
    {
     "name": "stdout",
     "output_type": "stream",
     "text": [
      "Test accuracy: 0.80\n",
      "Test accuracy after attack: 0.80\n"
     ]
    }
   ],
   "source": [
    "################################# Evaluation ###############################\n",
    "print(f\"Test accuracy: {accuracies[0]:.2f}\")\n",
    "print(f\"Test accuracy after attack: {accuracies[1]:.2f}\")\n",
    "#print(f\"Test accuracy after defense: {accuracies[2]:.2f}\")\n",
    "#print(f\"Test accuracy after attack and defense: {accuracies[3]:.2f}\")\n",
    "\n"
   ]
  }
 ],
 "metadata": {
  "kernelspec": {
   "display_name": "Python 3",
   "language": "python",
   "name": "python3"
  },
  "language_info": {
   "codemirror_mode": {
    "name": "ipython",
    "version": 3
   },
   "file_extension": ".py",
   "mimetype": "text/x-python",
   "name": "python",
   "nbconvert_exporter": "python",
   "pygments_lexer": "ipython3",
   "version": "3.9.13"
  }
 },
 "nbformat": 4,
 "nbformat_minor": 2
}
